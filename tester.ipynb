{
 "cells": [
  {
   "cell_type": "markdown",
   "id": "c6fc43a6",
   "metadata": {},
   "source": [
    "## Train and Evaluating Code\n",
    "\n",
    "Task: make code for training models on the Div2k dataset and evaluate on specified test sets"
   ]
  },
  {
   "cell_type": "code",
   "execution_count": null,
   "id": "cb2d34d1",
   "metadata": {},
   "outputs": [],
   "source": [
    "div2k_path = ...\n"
   ]
  },
  {
   "cell_type": "code",
   "execution_count": null,
   "id": "40a652fb",
   "metadata": {},
   "outputs": [],
   "source": [
    "#TODO:\n",
    "    #create EDSR model\n",
    "    #make training module\n",
    "    #make evaluation module\n",
    "    \n",
    "#Later:\n",
    "    #make training module for training a transformer"
   ]
  }
 ],
 "metadata": {
  "kernelspec": {
   "display_name": "Python 3 (ipykernel)",
   "language": "python",
   "name": "python3"
  },
  "language_info": {
   "codemirror_mode": {
    "name": "ipython",
    "version": 3
   },
   "file_extension": ".py",
   "mimetype": "text/x-python",
   "name": "python",
   "nbconvert_exporter": "python",
   "pygments_lexer": "ipython3",
   "version": "3.9.7"
  }
 },
 "nbformat": 4,
 "nbformat_minor": 5
}
